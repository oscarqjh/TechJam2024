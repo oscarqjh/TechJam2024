{
 "cells": [
  {
   "cell_type": "code",
   "execution_count": 4,
   "metadata": {},
   "outputs": [
    {
     "data": {
      "text/plain": [
       "True"
      ]
     },
     "execution_count": 4,
     "metadata": {},
     "output_type": "execute_result"
    }
   ],
   "source": [
    "from langchain_community.graphs import Neo4jGraph\n",
    "from dotenv import load_dotenv\n",
    "\n",
    "load_dotenv()"
   ]
  },
  {
   "cell_type": "code",
   "execution_count": 5,
   "metadata": {},
   "outputs": [
    {
     "name": "stdout",
     "output_type": "stream",
     "text": [
      "[{'n': {'country_txt': 'Bangladesh'}}, {'n': {'country_txt': 'Lebanon'}}, {'n': {'country_txt': 'Sri Lanka'}}, {'n': {'country_txt': 'Maldives'}}, {'n': {'country_txt': 'Canada'}}, {'n': {'country_txt': 'United States'}}, {'n': {'country_txt': 'Azerbaijan'}}, {'n': {'country_txt': 'South Africa'}}, {'n': {'country_txt': 'Uganda'}}, {'n': {'country_txt': 'Ethiopia'}}, {'n': {'country_txt': 'Israel'}}, {'n': {'country_txt': 'India'}}, {'n': {'country_txt': 'Algeria'}}, {'n': {'country_txt': 'Macedonia'}}, {'n': {'country_txt': 'Rwanda'}}, {'n': {'country_txt': 'Pakistan'}}, {'n': {'country_txt': 'Albania'}}, {'n': {'country_txt': 'Colombia'}}, {'n': {'country_txt': 'China'}}, {'n': {'country_txt': 'Angola'}}, {'n': {'country_txt': 'Thailand'}}, {'n': {'country_txt': 'Egypt'}}, {'n': {'country_txt': 'Georgia'}}, {'n': {'country_txt': 'Cameroon'}}, {'n': {'country_txt': 'Cambodia'}}]\n"
     ]
    }
   ],
   "source": [
    "class Neo4jGraph(Neo4jGraph):\n",
    "        def __enter__(self):\n",
    "                return self\n",
    "\n",
    "        def __exit__(self, exc_type, exc_val, exc_tb):\n",
    "                self._driver.close()\n",
    "\n",
    "with Neo4jGraph() as graph:\n",
    "        result = graph.query(\n",
    "                \"\"\"\n",
    "                MATCH (n:Country) RETURN n LIMIT 25\n",
    "                \"\"\")\n",
    "        print(result)\n"
   ]
  }
 ],
 "metadata": {
  "kernelspec": {
   "display_name": ".venv",
   "language": "python",
   "name": "python3"
  },
  "language_info": {
   "codemirror_mode": {
    "name": "ipython",
    "version": 3
   },
   "file_extension": ".py",
   "mimetype": "text/x-python",
   "name": "python",
   "nbconvert_exporter": "python",
   "pygments_lexer": "ipython3",
   "version": "3.11.2"
  }
 },
 "nbformat": 4,
 "nbformat_minor": 2
}
